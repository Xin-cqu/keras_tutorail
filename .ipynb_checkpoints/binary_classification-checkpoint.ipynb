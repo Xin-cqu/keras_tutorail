{
 "cells": [
  {
   "cell_type": "code",
   "execution_count": 9,
   "metadata": {},
   "outputs": [
    {
     "data": {
      "text/plain": [
       "1"
      ]
     },
     "execution_count": 9,
     "metadata": {},
     "output_type": "execute_result"
    }
   ],
   "source": [
    "from keras.datasets import imdb\n",
    "(train_data,train_labels),(test_data,test_labels)=imdb.load_data(num_words=10000)\n",
    "train_data[0]\n",
    "train_labels[0]"
   ]
  },
  {
   "cell_type": "code",
   "execution_count": 10,
   "metadata": {},
   "outputs": [],
   "source": [
    "max([max(sequence) for sequence in train_data])\n",
    "word_index=imdb.get_word_index()\n",
    "reverse_word_index=dict([(value,key) for (key,value) in word_index.items()])\n",
    "decoded_review=' '.join([reverse_word_index.get(i-3,'?') for i in train_data[0]])\n"
   ]
  },
  {
   "cell_type": "code",
   "execution_count": 12,
   "metadata": {},
   "outputs": [],
   "source": [
    "import numpy as np \n",
    "def vectorize_sequences(sequences,dimension=10000):\n",
    "    results=np.zeros((len(sequences),dimension))\n",
    "    for i, sequence in enumerate(sequences):\n",
    "        results[i, sequence]=1.\n",
    "    return results\n",
    "x_train=vectorize_sequences(train_data)\n",
    "x_test=vectorize_sequences(test_data)\n",
    "x_train[0]\n",
    "y_train=np.asarray(train_labels).astype('float32')\n",
    "y_test=np.asarray(test_labels).astype('float32')"
   ]
  },
  {
   "cell_type": "code",
   "execution_count": 13,
   "metadata": {},
   "outputs": [],
   "source": [
    "from keras import models\n",
    "from keras import layers\n",
    "\n",
    "model=models.Sequential()\n",
    "model.add(layers.Dense(16,activation='relu',input_shape=(10000,)))\n",
    "model.add(layers.Dense(16,activation='relu'))\n",
    "model.add(layers.Dense(1,activation='sigmoid'))\n",
    "\n",
    "model.compile(optimizer='rmsprop',loss='binary_crossentropy',metrics=['accuracy'])\n",
    "\n",
    "from keras import optimizers\n",
    "model.compile(optimizer=optimizers.RMSprop(lr=0.001),loss='binary_crossentropy',metrics=['accuracy'])"
   ]
  },
  {
   "cell_type": "code",
   "execution_count": 14,
   "metadata": {},
   "outputs": [
    {
     "name": "stdout",
     "output_type": "stream",
     "text": [
      "Train on 15000 samples, validate on 10000 samples\n",
      "Epoch 1/20\n",
      "15000/15000 [==============================] - 2s 164us/step - loss: 0.5084 - acc: 0.7820 - val_loss: 0.3795 - val_acc: 0.8687\n",
      "Epoch 2/20\n",
      "15000/15000 [==============================] - 2s 124us/step - loss: 0.3004 - acc: 0.9041 - val_loss: 0.3003 - val_acc: 0.8896\n",
      "Epoch 3/20\n",
      "15000/15000 [==============================] - 2s 123us/step - loss: 0.2179 - acc: 0.9286 - val_loss: 0.3084 - val_acc: 0.8718\n",
      "Epoch 4/20\n",
      "15000/15000 [==============================] - 2s 123us/step - loss: 0.1750 - acc: 0.9438 - val_loss: 0.2838 - val_acc: 0.8833\n",
      "Epoch 5/20\n",
      "15000/15000 [==============================] - 2s 157us/step - loss: 0.1426 - acc: 0.9543 - val_loss: 0.2843 - val_acc: 0.8870\n",
      "Epoch 6/20\n",
      "15000/15000 [==============================] - 2s 131us/step - loss: 0.1150 - acc: 0.9652 - val_loss: 0.3165 - val_acc: 0.8773\n",
      "Epoch 7/20\n",
      "15000/15000 [==============================] - 2s 155us/step - loss: 0.0980 - acc: 0.9708 - val_loss: 0.3126 - val_acc: 0.8846\n",
      "Epoch 8/20\n",
      "15000/15000 [==============================] - 3s 173us/step - loss: 0.0807 - acc: 0.9763 - val_loss: 0.3855 - val_acc: 0.8654\n",
      "Epoch 9/20\n",
      "15000/15000 [==============================] - 3s 177us/step - loss: 0.0661 - acc: 0.9820 - val_loss: 0.3634 - val_acc: 0.8777\n",
      "Epoch 10/20\n",
      "15000/15000 [==============================] - 2s 134us/step - loss: 0.0558 - acc: 0.9854 - val_loss: 0.3844 - val_acc: 0.8794\n",
      "Epoch 11/20\n",
      "15000/15000 [==============================] - 2s 140us/step - loss: 0.0444 - acc: 0.9890 - val_loss: 0.4154 - val_acc: 0.8778\n",
      "Epoch 12/20\n",
      "15000/15000 [==============================] - 2s 129us/step - loss: 0.0383 - acc: 0.9917 - val_loss: 0.4517 - val_acc: 0.8695\n",
      "Epoch 13/20\n",
      "15000/15000 [==============================] - 2s 149us/step - loss: 0.0298 - acc: 0.9930 - val_loss: 0.4703 - val_acc: 0.8734\n",
      "Epoch 14/20\n",
      "15000/15000 [==============================] - 2s 136us/step - loss: 0.0246 - acc: 0.9945 - val_loss: 0.5040 - val_acc: 0.8719\n",
      "Epoch 15/20\n",
      "15000/15000 [==============================] - 2s 141us/step - loss: 0.0170 - acc: 0.9983 - val_loss: 0.5615 - val_acc: 0.8659\n",
      "Epoch 16/20\n",
      "15000/15000 [==============================] - 2s 139us/step - loss: 0.0135 - acc: 0.9983 - val_loss: 0.5888 - val_acc: 0.8688\n",
      "Epoch 17/20\n",
      "15000/15000 [==============================] - 2s 133us/step - loss: 0.0135 - acc: 0.9977 - val_loss: 0.6241 - val_acc: 0.8687\n",
      "Epoch 18/20\n",
      "15000/15000 [==============================] - 2s 131us/step - loss: 0.0098 - acc: 0.9985 - val_loss: 0.6541 - val_acc: 0.8675\n",
      "Epoch 19/20\n",
      "15000/15000 [==============================] - 2s 131us/step - loss: 0.0051 - acc: 0.9999 - val_loss: 0.7007 - val_acc: 0.8620\n",
      "Epoch 20/20\n",
      "15000/15000 [==============================] - 2s 133us/step - loss: 0.0079 - acc: 0.9985 - val_loss: 0.7092 - val_acc: 0.8657\n"
     ]
    },
    {
     "data": {
      "text/plain": [
       "dict_keys(['val_loss', 'val_acc', 'loss', 'acc'])"
      ]
     },
     "execution_count": 14,
     "metadata": {},
     "output_type": "execute_result"
    }
   ],
   "source": [
    "x_val=x_train[:10000]\n",
    "partial_x_train=x_train[10000:]\n",
    "y_val=y_train[:10000]\n",
    "partial_y_train=y_train[10000:]\n",
    "\n",
    "history=model.fit(partial_x_train,partial_y_train,epochs=20,batch_size=512,validation_data=(x_val,y_val))\n",
    "history_dict=history.history\n",
    "history_dict.keys()"
   ]
  },
  {
   "cell_type": "code",
   "execution_count": 17,
   "metadata": {},
   "outputs": [
    {
     "data": {
      "image/png": "[encoded data removed]",
      "text/plain": [
       "<Figure size 432x288 with 1 Axes>"
      ]
     },
     "metadata": {
      "needs_background": "light"
     },
     "output_type": "display_data"
    }
   ],
   "source": [
    "import matplotlib.pyplot as plt\n",
    "history_dict=history.history\n",
    "loss_values=history_dict['loss']\n",
    "val_loss_values=history_dict['val_loss']\n",
    "\n",
    "epochs=range(1,len(loss_values)+1)\n",
    "\n",
    "plt.plot(epochs,loss_values,'bo',label='Training loss')\n",
    "plt.plot(epochs,val_loss_values,'b',label='Validation loss')\n",
    "plt.title('Training and validation loss')\n",
    "plt.xlabel('Epochs')\n",
    "plt.ylabel('Loss')\n",
    "plt.legend()\n",
    "plt.show()"
   ]
  },
  {
   "cell_type": "code",
   "execution_count": 18,
   "metadata": {},
   "outputs": [
    {
     "data": {
      "image/png": "[encoded data removed]",
      "text/plain": [
       "<Figure size 432x288 with 1 Axes>"
      ]
     },
     "metadata": {
      "needs_background": "light"
     },
     "output_type": "display_data"
    }
   ],
   "source": [
    "plt.clf()\n",
    "acc=history_dict['acc']\n",
    "val_acc=history_dict['val_acc']\n",
    "\n",
    "plt.plot(epochs,acc,'bo',label='Training acc')\n",
    "plt.plot(epochs,val_acc,'b',label='Validation acc')\n",
    "plt.title('Training and validation accuracy')\n",
    "plt.xlabel('Epochs')\n",
    "plt.ylabel('Accuracy')\n",
    "plt.legend()\n",
    "plt.show()"
   ]
  },
  {
   "cell_type": "code",
   "execution_count": 25,
   "metadata": {},
   "outputs": [
    {
     "name": "stdout",
     "output_type": "stream",
     "text": [
      "Epoch 1/4\n",
      "25000/25000 [==============================] - 4s 147us/step - loss: 0.1334 - acc: 0.8186\n",
      "Epoch 2/4\n",
      "25000/25000 [==============================] - 3s 121us/step - loss: 0.0690 - acc: 0.9156\n",
      "Epoch 3/4\n",
      "25000/25000 [==============================] - 3s 123us/step - loss: 0.0534 - acc: 0.9326\n",
      "Epoch 4/4\n",
      "25000/25000 [==============================] - 3s 128us/step - loss: 0.0440 - acc: 0.9450\n",
      "25000/25000 [==============================] - 3s 127us/step\n"
     ]
    },
    {
     "data": {
      "text/plain": [
       "array([[0.10033603],\n",
       "       [0.99995947],\n",
       "       [0.9547507 ],\n",
       "       ...,\n",
       "       [0.16685797],\n",
       "       [0.07143284],\n",
       "       [0.59053975]], dtype=float32)"
      ]
     },
     "execution_count": 25,
     "metadata": {},
     "output_type": "execute_result"
    }
   ],
   "source": [
    "model=models.Sequential()\n",
    "model.add(layers.Dense(64,activation='tanh',input_shape=(10000,)))\n",
    "#model.add(layers.Dense(64,activation='relu'))\n",
    "#model.add(layers.Dense(64,activation='tanh'))\n",
    "model.add(layers.Dense(1,activation='sigmoid'))\n",
    "\n",
    "model.compile(optimizer='rmsprop',loss='mse',metrics=['accuracy'])\n",
    "model.fit(x_train,y_train,epochs=3,batch_size=512)\n",
    "results=model.evaluate(x_test,y_test)\n",
    "model.predict(x_test)"
   ]
  },
  {
   "cell_type": "code",
   "execution_count": 26,
   "metadata": {},
   "outputs": [
    {
     "data": {
      "text/plain": [
       "[0.09063295437574387, 0.87804]"
      ]
     },
     "execution_count": 26,
     "metadata": {},
     "output_type": "execute_result"
    }
   ],
   "source": [
    "results"
   ]
  },
  {
   "cell_type": "code",
   "execution_count": null,
   "metadata": {},
   "outputs": [],
   "source": []
  }
 ],
 "metadata": {
  "kernelspec": {
   "display_name": "Python 3",
   "language": "python",
   "name": "python3"
  },
  "language_info": {
   "codemirror_mode": {
    "name": "ipython",
    "version": 3
   },
   "file_extension": ".py",
   "mimetype": "text/x-python",
   "name": "python",
   "nbconvert_exporter": "python",
   "pygments_lexer": "ipython3",
   "version": "3.6.5"
  }
 },
 "nbformat": 4,
 "nbformat_minor": 2
}
